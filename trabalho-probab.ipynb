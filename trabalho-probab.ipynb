{
 "cells": [
  {
   "cell_type": "markdown",
   "metadata": {},
   "source": [
    "# A Repair Problem\n",
    "\n",
    "### Solução para o Repair Problem, seção 7.7 do livro <i>Simulation</i>, do Sheldon Ross."
   ]
  },
  {
   "cell_type": "markdown",
   "metadata": {},
   "source": [
    "<img src=\"image7.4.png\"> "
   ]
  },
  {
   "cell_type": "markdown",
   "metadata": {},
   "source": [
    "O problema dita que um sistema precisa de $n$ máquinas funcionando para operar. Esse sistema possui também algumas máquinas reservas, que serão usadas para substituir máquinas que quebrarem. As máquinas quebradas entram em uma fila para serem consertadas, e depois do seu reparo são realocadas para as máquinas reservas.\n",
    "\n",
    "O sistema entra em colapso quando todas as máquinas reservas foram utilizadas e uma das máquinas em operação quebra.\n",
    "\n",
    "Os tempos de reparo são modelados por uma função de distribuição $G$, e a probabilidade de uma máquina funcionar é modelado por uma outra função de distribuição $F$.\n",
    "\n",
    "<img src=\"repairproblem.png\"> "
   ]
  },
  {
   "cell_type": "code",
   "execution_count": 1,
   "metadata": {
    "collapsed": true
   },
   "outputs": [],
   "source": [
    "import numpy as np\n",
    "import matplotlib.pyplot as plt\n",
    "import math\n",
    "%matplotlib inline"
   ]
  },
  {
   "cell_type": "markdown",
   "metadata": {},
   "source": [
    "Usaremos a <b>distribuição Bernoulli</b> para modelar a quebra de cada uma das $n$ máquinas.\n",
    "\n",
    "Essa é a distribuição mais intuitiva de ser utilizada pois modela uma chance de sucesso ou fracasso (quebra ou não) a cada instante de tempo."
   ]
  },
  {
   "cell_type": "code",
   "execution_count": 2,
   "metadata": {
    "collapsed": true
   },
   "outputs": [],
   "source": [
    "def rBernoulli(n, p):\n",
    "    # Entradas aleatórias\n",
    "    u = np.random.sample(n) \n",
    "    # Vetor preenchido com zeros de tamanho n de amostras\n",
    "    x = np.zeros(n) \n",
    "    \n",
    "    for i in range(n): \n",
    "        # Não quebra\n",
    "        if (u[i] < (1-p)):\n",
    "            x[i] = 0\n",
    "        # Quebra da máquina\n",
    "        else:  \n",
    "            x[i] = 1\n",
    "    return x"
   ]
  },
  {
   "cell_type": "markdown",
   "metadata": {},
   "source": [
    "Usaremos a <b>distribuição Poisson</b> para modelar o tempo de reparo das máquinas, por ser uma distribuição usada para modelar o tempo de chegada em filas. \n",
    "\n",
    "As máquinas formam justamente uma fila de espera para serem consertadas"
   ]
  },
  {
   "cell_type": "code",
   "execution_count": 3,
   "metadata": {
    "collapsed": false
   },
   "outputs": [],
   "source": [
    "def rPoisson(rate):\n",
    "    x = np.zeros(1)\n",
    "    u = np.random.sample(1)\n",
    "    k  = 0\n",
    "    pk = math.exp(-rate)\n",
    "    Fk = pk\n",
    "    \n",
    "    while(1):\n",
    "        if (u < Fk):\n",
    "            x = k\n",
    "            break\n",
    "        pk = pk * rate /(k+1) \n",
    "        Fk = Fk + pk\n",
    "        k  = k + 1\n",
    "    return x"
   ]
  },
  {
   "cell_type": "markdown",
   "metadata": {},
   "source": [
    "A função de <b>Repair Problem</b> retorna o tempo de quebra do sistema em função do número de máquinas $n$, o número de reservas $s$, a probabilidade de quebra de uma máquina a cada instante de tempo $p$ e o parâmetro da poisson $rate$.\n"
   ]
  },
  {
   "cell_type": "code",
   "execution_count": 4,
   "metadata": {
    "collapsed": false
   },
   "outputs": [],
   "source": [
    "def repairProblem(n, s, p, rate):\n",
    "    t = 0\n",
    "    \n",
    "    # Número de máquinas quebradas no tempo t\n",
    "    r = 0\n",
    "    \n",
    "    # Tempo que falta para primeira máquina quebrada na fila ser reparada\n",
    "    tReparo = 0\n",
    "    \n",
    "    # Flag que indica que um reparo está sendo realizado\n",
    "    flagReparo = 0\n",
    "    \n",
    "    while(1):\n",
    "        t += 1\n",
    "        \n",
    "        # Primeiro passo: sortear quebra das máquinas\n",
    "        x = rBernoulli(n, p)\n",
    "        \n",
    "        # Número de quebras no instante t\n",
    "        nquebras = sum(x)\n",
    "        \n",
    "        # Atualizando o número de máquinas reservas disponíveis\n",
    "        if (s >= nquebras):\n",
    "            s -= nquebras\n",
    "            r += nquebras\n",
    "            \n",
    "        # Não há máquinas reservas suficientes disponíveis\n",
    "        else:\n",
    "            return t\n",
    "        \n",
    "        # Se há máquinas quebradas e nenhuma delas já está sendo reparada: sorteia tempo de reparo\n",
    "        if (r > 0 and tReparo == 0):\n",
    "            tReparo = rPoisson(rate)\n",
    "            \n",
    "            # Flag de reparo acionada: aumentamos o números de máquinas extras e diminuimos a fila para reparo\n",
    "            if (flagReparo):\n",
    "                s += 1\n",
    "                r -= 1\n",
    "                flagReparo = 0\n",
    "                \n",
    "        # Caso contrário, decrementa o tempo de reparo atual\n",
    "        elif (r > 0 and tReparo > 0 ):\n",
    "            flagReparo = 1\n",
    "            tReparo -= 1"
   ]
  },
  {
   "cell_type": "markdown",
   "metadata": {},
   "source": [
    "Para testar e validar a função criada, vamos executar os seguintes testes:"
   ]
  },
  {
   "cell_type": "markdown",
   "metadata": {},
   "source": [
    "- Número de máquinas necessárias muito maior do que número de máquinas extras, com baixa probabilidade de quebra"
   ]
  },
  {
   "cell_type": "code",
   "execution_count": 5,
   "metadata": {
    "collapsed": false
   },
   "outputs": [
    {
     "name": "stdout",
     "output_type": "stream",
     "text": [
      "[1, 1, 1, 1, 1, 1, 1, 1, 1, 1, 1, 1, 1, 1, 1, 1, 1, 1, 1, 1, 1, 1, 1, 1, 1, 1, 1, 1, 1, 1, 1, 1, 1, 1, 1, 1, 1, 1, 1, 1, 1, 1, 1, 1, 1, 1, 1, 1, 1, 1, 1, 1, 1, 1, 1, 1, 1, 1, 1, 1, 1, 1, 1, 1, 1, 1, 1, 1, 1, 1, 1, 1, 1, 1, 1, 1, 1, 1, 1, 1, 1, 1, 1, 1, 1, 1, 1, 1, 1, 1, 1, 1, 1, 1, 1, 1, 1, 1, 1, 1]\n"
     ]
    },
    {
     "data": {
      "image/png": "[encoded data removed]",
      "text/plain": [
       "<matplotlib.figure.Figure at 0x10bc31da0>"
      ]
     },
     "metadata": {},
     "output_type": "display_data"
    }
   ],
   "source": [
    "x = []\n",
    "for i in range(100):\n",
    "    x.append(repairProblem(100,5,0.2,3))\n",
    "\n",
    "print(x)\n",
    "plt.hist(x, facecolor='green', alpha=0.5)\n",
    "plt.show()"
   ]
  },
  {
   "cell_type": "markdown",
   "metadata": {},
   "source": [
    "- Número de máquinas necessárias muito maior do que número de máquinas extras, com alta probabilidade de quebra"
   ]
  },
  {
   "cell_type": "code",
   "execution_count": 6,
   "metadata": {
    "collapsed": false
   },
   "outputs": [
    {
     "name": "stdout",
     "output_type": "stream",
     "text": [
      "[1, 1, 1, 1, 1, 1, 1, 1, 1, 1, 1, 1, 1, 1, 1, 1, 1, 1, 1, 1, 1, 1, 1, 1, 1, 1, 1, 1, 1, 1, 1, 1, 1, 1, 1, 1, 1, 1, 1, 1, 1, 1, 1, 1, 1, 1, 1, 1, 1, 1, 1, 1, 1, 1, 1, 1, 1, 1, 1, 1, 1, 1, 1, 1, 1, 1, 1, 1, 1, 1, 1, 1, 1, 1, 1, 1, 1, 1, 1, 1, 1, 1, 1, 1, 1, 1, 1, 1, 1, 1, 1, 1, 1, 1, 1, 1, 1, 1, 1, 1]\n"
     ]
    },
    {
     "data": {
      "image/png": "[encoded data removed]",
      "text/plain": [
       "<matplotlib.figure.Figure at 0x111f6db38>"
      ]
     },
     "metadata": {},
     "output_type": "display_data"
    }
   ],
   "source": [
    "x = []\n",
    "for i in range(100):\n",
    "    x.append(repairProblem(100,5,0.8,3))\n",
    "\n",
    "print(x)\n",
    "plt.hist(x, facecolor='green', alpha=0.5)\n",
    "plt.show()"
   ]
  },
  {
   "cell_type": "markdown",
   "metadata": {},
   "source": [
    "- Número de máquinas necessárias igual ao número de máquinas extras, com baixa probabilidade de quebra"
   ]
  },
  {
   "cell_type": "code",
   "execution_count": 7,
   "metadata": {
    "collapsed": false
   },
   "outputs": [
    {
     "name": "stdout",
     "output_type": "stream",
     "text": [
      "[8, 5, 5, 3, 5, 5, 5, 5, 10, 5, 5, 6, 8, 7, 8, 5, 6, 5, 6, 6, 4, 8, 5, 5, 3, 5, 6, 6, 6, 4, 6, 7, 5, 7, 6, 5, 6, 4, 6, 9, 5, 5, 5, 7, 7, 6, 4, 6, 4, 4, 4, 5, 5, 6, 7, 8, 6, 5, 5, 6, 5, 7, 7, 4, 4, 5, 7, 5, 8, 7, 7, 6, 5, 8, 4, 7, 6, 7, 5, 6, 5, 6, 6, 6, 7, 4, 5, 6, 3, 7, 5, 5, 6, 5, 6, 5, 7, 6, 6, 6]\n"
     ]
    },
    {
     "data": {
      "image/png": "[encoded data removed]",
      "text/plain": [
       "<matplotlib.figure.Figure at 0x111f6d6d8>"
      ]
     },
     "metadata": {},
     "output_type": "display_data"
    }
   ],
   "source": [
    "x = []\n",
    "for i in range(100):\n",
    "    x.append(repairProblem(20,20,0.2,3))\n",
    "\n",
    "print(x)\n",
    "plt.hist(x, facecolor='green', alpha=0.5)\n",
    "plt.show()"
   ]
  },
  {
   "cell_type": "markdown",
   "metadata": {},
   "source": [
    "- Número de máquinas necessárias igual ao que número de máquinas extras, com alta probabilidade de quebra"
   ]
  },
  {
   "cell_type": "code",
   "execution_count": 13,
   "metadata": {
    "collapsed": false
   },
   "outputs": [
    {
     "name": "stdout",
     "output_type": "stream",
     "text": [
      "[2, 2, 2, 2, 2, 2, 2, 2, 2, 2, 2, 2, 2, 2, 2, 2, 2, 2, 2, 2, 2, 2, 2, 2, 2, 2, 2, 2, 2, 2, 2, 2, 2, 2, 2, 2, 2, 2, 2, 2, 2, 2, 2, 2, 2, 2, 2, 2, 2, 2, 2, 2, 2, 2, 2, 2, 2, 2, 2, 2, 2, 2, 2, 2, 2, 2, 2, 2, 2, 2, 2, 2, 2, 2, 2, 2, 2, 2, 2, 2, 2, 2, 2, 2, 2, 2, 2, 2, 2, 2, 2, 2, 3, 2, 2, 2, 2, 2, 2, 2]\n"
     ]
    },
    {
     "data": {
      "image/png": "[encoded data removed]",
      "text/plain": [
       "<matplotlib.figure.Figure at 0x115df30b8>"
      ]
     },
     "metadata": {},
     "output_type": "display_data"
    }
   ],
   "source": [
    "x = []\n",
    "for i in range(100):\n",
    "    x.append(repairProblem(20,20,0.7,3))\n",
    "\n",
    "print(x)\n",
    "plt.hist(x, facecolor='green', alpha=0.5)\n",
    "plt.show()"
   ]
  },
  {
   "cell_type": "markdown",
   "metadata": {},
   "source": [
    "- Número de máquinas necessárias muito menor do que número de máquinas extras, com baixa probabilidade de quebra"
   ]
  },
  {
   "cell_type": "code",
   "execution_count": 9,
   "metadata": {
    "collapsed": false
   },
   "outputs": [
    {
     "name": "stdout",
     "output_type": "stream",
     "text": [
      "[128, 142, 151, 132, 121, 144, 138, 126, 135, 116, 116, 129, 124, 129, 112, 125, 139, 146, 119, 133, 124, 119, 125, 146, 129, 138, 118, 129, 128, 154, 124, 144, 128, 143, 145, 153, 119, 127, 131, 126, 122, 102, 125, 156, 130, 151, 143, 137, 131, 107, 152, 132, 130, 125, 147, 117, 134, 118, 140, 125, 110, 120, 126, 135, 111, 141, 117, 162, 129, 122, 126, 135, 111, 136, 113, 109, 145, 132, 144, 130, 149, 138, 109, 138, 136, 126, 124, 118, 123, 117, 125, 122, 147, 152, 107, 124, 115, 149, 135, 122]\n"
     ]
    },
    {
     "data": {
      "image/png": "[encoded data removed]",
      "text/plain": [
       "<matplotlib.figure.Figure at 0x1124396d8>"
      ]
     },
     "metadata": {},
     "output_type": "display_data"
    }
   ],
   "source": [
    "x = []\n",
    "for i in range(100):\n",
    "    x.append(repairProblem(5,100,0.2,3))\n",
    "\n",
    "print(x)\n",
    "plt.hist(x, facecolor='green', alpha=0.5)\n",
    "plt.show()"
   ]
  },
  {
   "cell_type": "markdown",
   "metadata": {},
   "source": [
    "- Número de máquinas necessárias muito menor do que número de máquinas extras, com alta probabilidade de quebra"
   ]
  },
  {
   "cell_type": "code",
   "execution_count": 14,
   "metadata": {
    "collapsed": false
   },
   "outputs": [
    {
     "name": "stdout",
     "output_type": "stream",
     "text": [
      "[27, 28, 27, 25, 26, 28, 26, 26, 28, 25, 28, 28, 27, 28, 25, 26, 27, 26, 27, 26, 27, 28, 28, 31, 27, 27, 27, 27, 27, 26, 29, 27, 26, 29, 28, 27, 28, 29, 27, 27, 27, 27, 26, 26, 26, 26, 26, 28, 25, 28, 26, 26, 26, 27, 28, 29, 30, 26, 26, 27, 28, 26, 26, 28, 28, 29, 27, 26, 27, 27, 26, 28, 27, 27, 28, 30, 27, 26, 25, 27, 26, 27, 28, 26, 28, 27, 26, 28, 26, 27, 27, 29, 28, 29, 25, 27, 28, 25, 27, 28]\n"
     ]
    },
    {
     "data": {
      "image/png": "[encoded data removed]",
      "text/plain": [
       "<matplotlib.figure.Figure at 0x1159a5470>"
      ]
     },
     "metadata": {},
     "output_type": "display_data"
    }
   ],
   "source": [
    "x = []\n",
    "for i in range(100):\n",
    "    x.append(repairProblem(5,100,0.8,3))\n",
    "\n",
    "print(x)\n",
    "plt.hist(x, facecolor='green', alpha=0.5)\n",
    "plt.show()"
   ]
  },
  {
   "cell_type": "code",
   "execution_count": null,
   "metadata": {
    "collapsed": true
   },
   "outputs": [],
   "source": []
  }
 ],
 "metadata": {
  "kernelspec": {
   "display_name": "Python 3",
   "language": "python",
   "name": "python3"
  },
  "language_info": {
   "codemirror_mode": {
    "name": "ipython",
    "version": 3
   },
   "file_extension": ".py",
   "mimetype": "text/x-python",
   "name": "python",
   "nbconvert_exporter": "python",
   "pygments_lexer": "ipython3",
   "version": "3.6.0"
  }
 },
 "nbformat": 4,
 "nbformat_minor": 2
}
